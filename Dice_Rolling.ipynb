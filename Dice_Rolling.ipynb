{
 "cells": [
  {
   "cell_type": "code",
   "execution_count": 10,
   "metadata": {},
   "outputs": [
    {
     "name": "stdout",
     "output_type": "stream",
     "text": [
      "[-----]\n",
      "[0   0]\n",
      "[  0  ]\n",
      "[0   0]\n",
      "[-----]\n",
      "print 'y' to roll again and 'n' to exity\n",
      "[-----]\n",
      "[0   0]\n",
      "[  0  ]\n",
      "[0   0]\n",
      "[-----]\n",
      "print 'y' to roll again and 'n' to exitu\n",
      "Choose the correct input\n",
      "print 'y' to roll again and 'n' to exity\n",
      "[-----]\n",
      "[     ]\n",
      "[0 0 0]\n",
      "[     ]\n",
      "[-----]\n",
      "print 'y' to roll again and 'n' to exiti\n",
      "Choose the correct input\n",
      "print 'y' to roll again and 'n' to exitn\n"
     ]
    }
   ],
   "source": [
    "import random\n",
    "x = 'y'\n",
    "while x=='y':\n",
    "    num = random.randint(1,6)\n",
    "    \n",
    "    if num == 1:\n",
    "        print('[-----]')\n",
    "        print('[     ]')\n",
    "        print('[  0  ]')\n",
    "        print('[     ]')\n",
    "        print('[-----]')\n",
    "        \n",
    "    if num == 2:\n",
    "        print('[-----]')\n",
    "        print('[0    ]')\n",
    "        print('[     ]')\n",
    "        print('[    0]')\n",
    "        print('[-----]')\n",
    "        \n",
    "    if num == 3:\n",
    "        print('[-----]')\n",
    "        print('[     ]')\n",
    "        print('[0 0 0]')\n",
    "        print('[     ]')\n",
    "        print('[-----]')\n",
    "        \n",
    "    if num == 4:\n",
    "        print('[-----]')\n",
    "        print('[ 0 0 ]')\n",
    "        print('[     ]')\n",
    "        print('[ 0 0 ]')\n",
    "        print('[-----]')\n",
    "        \n",
    "    if num == 5:\n",
    "        print('[-----]')\n",
    "        print('[0   0]')\n",
    "        print('[  0  ]')\n",
    "        print('[0   0]')\n",
    "        print('[-----]')\n",
    "        \n",
    "    if num == 6:\n",
    "        print('[-----]')\n",
    "        print('[ 0 0 ]')\n",
    "        print('[ 0 0 ]')\n",
    "        print('[ 0 0 ]')\n",
    "        print('[-----]')\n",
    "     \n",
    "    \n",
    "    x = input(\"print 'y' to roll again and 'n' to exit\")\n",
    "    if x == 'y':\n",
    "        continue\n",
    "    elif x == 'n':\n",
    "        break\n",
    "    else:\n",
    "        print(\"Choose the correct input\")\n",
    "        x = input(\"print 'y' to roll again and 'n' to exit\")\n",
    "        continue\n",
    "    "
   ]
  },
  {
   "cell_type": "code",
   "execution_count": 17,
   "metadata": {},
   "outputs": [
    {
     "name": "stdout",
     "output_type": "stream",
     "text": [
      "Choose y for continue and n for end: y\n",
      "You rolled 4\n",
      "Do you want to roll again: \n",
      "Choose y for continue and n for end: t\n",
      "You have given wrong input.\n"
     ]
    }
   ],
   "source": [
    "from random import randint\n",
    "choice = 'y'\n",
    "while choice == 'y':\n",
    "    choice = input('Choose y for continue and n for end: ')\n",
    "    if choice == 'y':\n",
    "        print(\"You rolled\", random.randint(1,6))\n",
    "        print(\"Do you want to roll again: \")\n",
    "        continue\n",
    "   \n",
    "    elif choice == 'n':\n",
    "        break\n",
    "    else:\n",
    "        print('You have given wrong input.')\n",
    "        break\n",
    "    \n",
    "    \n"
   ]
  }
 ],
 "metadata": {
  "kernelspec": {
   "display_name": "Python 3",
   "language": "python",
   "name": "python3"
  },
  "language_info": {
   "codemirror_mode": {
    "name": "ipython",
    "version": 3
   },
   "file_extension": ".py",
   "mimetype": "text/x-python",
   "name": "python",
   "nbconvert_exporter": "python",
   "pygments_lexer": "ipython3",
   "version": "3.8.6"
  }
 },
 "nbformat": 4,
 "nbformat_minor": 4
}
